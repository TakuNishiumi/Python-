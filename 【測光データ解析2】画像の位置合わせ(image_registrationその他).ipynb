{
 "cells": [
  {
   "cell_type": "markdown",
   "metadata": {},
   "source": [
    "# 画像の位置合わせ"
   ]
  },
  {
   "cell_type": "markdown",
   "metadata": {},
   "source": [
    "データの読み込み"
   ]
  },
  {
   "cell_type": "code",
   "execution_count": 1,
   "metadata": {},
   "outputs": [],
   "source": [
    "import astropy as ap # astropyのio.fitsモジュールを読み込む\n",
    "import image_registration as im_regi # image_registrationパッケージを読み込む\n",
    "\n",
    "file1 = \"/media/dionysos1/data/public/Transit/GJ-436/170427/L0130950.fits\" # ファイル１の名前\n",
    "file2 = \"/media/dionysos1/data/public/Transit/GJ-436/170427/L0131030.fits\" # ファイル２の名前\n",
    "reference_image = ap.io.fits.getdata(file1) # file1の読み込み,こちらをリファレンス画像にする。\n",
    "image1 = ap.io.fits.getdata(file2) # file2の読み込み "
   ]
  },
  {
   "cell_type": "markdown",
   "metadata": {},
   "source": [
    "## ① image_registrationを用いた方法"
   ]
  },
  {
   "cell_type": "markdown",
   "metadata": {},
   "source": [
    "http://image-registration.readthedocs.io/en/latest/"
   ]
  },
  {
   "cell_type": "markdown",
   "metadata": {},
   "source": [
    "image_registrationというパッケージをインストールしていない場合は#をはずして、以下を実行する"
   ]
  },
  {
   "cell_type": "code",
   "execution_count": 2,
   "metadata": {},
   "outputs": [],
   "source": [
    "# import sys\n",
    "# !{sys.executable} -m pip install image_registration"
   ]
  },
  {
   "cell_type": "markdown",
   "metadata": {},
   "source": [
    "### 1-1 cross_correlation（相関関数）を用いた方法"
   ]
  },
  {
   "cell_type": "markdown",
   "metadata": {},
   "source": [
    "### $ xy_{\\rm{image1}} = xy_{\\rm{ref}} + {zure} $"
   ]
  },
  {
   "cell_type": "code",
   "execution_count": 3,
   "metadata": {},
   "outputs": [
    {
     "name": "stdout",
     "output_type": "stream",
     "text": [
      "dx,dy =  (-4.096155832707672, -1.6448130047765377)\n"
     ]
    }
   ],
   "source": [
    "zure = im_regi.cross_correlation_shifts(reference_image, image1) # 相関関数によるx方向、y方向のズレを計算する。\n",
    "print(\"dx,dy = \",zure) # ズレの大きさを表示(dxはx方向のずれ、dyはy方向のずれ) "
   ]
  },
  {
   "cell_type": "markdown",
   "metadata": {},
   "source": [
    "### 1-2 chi2_shift関数（$\\chi^{2}$計算）を用いた方法"
   ]
  },
  {
   "cell_type": "code",
   "execution_count": 4,
   "metadata": {},
   "outputs": [
    {
     "name": "stdout",
     "output_type": "stream",
     "text": [
      "dx,dy =  [-4.146484375, -1.677734375]\n"
     ]
    }
   ],
   "source": [
    "zure = im_regi.chi2_shift(reference_image, image1) # χ二乗計算によるx方向、y方向のズレを計算する。\n",
    "print(\"dx,dy = \",zure[0:2]) # ズレの大きさを表示(dxはx方向のずれ、dyはy方向のずれ)"
   ]
  },
  {
   "cell_type": "markdown",
   "metadata": {},
   "source": [
    "### その他の方法としてopencvというパッケージを用いて計算する方法も存在する。\n",
    "今後、記入予定"
   ]
  }
 ],
 "metadata": {
  "kernelspec": {
   "display_name": "Python 3",
   "language": "python",
   "name": "python3"
  },
  "language_info": {
   "codemirror_mode": {
    "name": "ipython",
    "version": 3
   },
   "file_extension": ".py",
   "mimetype": "text/x-python",
   "name": "python",
   "nbconvert_exporter": "python",
   "pygments_lexer": "ipython3",
   "version": "3.5.5"
  },
  "latex_envs": {
   "LaTeX_envs_menu_present": true,
   "autoclose": false,
   "autocomplete": true,
   "bibliofile": "biblio.bib",
   "cite_by": "apalike",
   "current_citInitial": 1,
   "eqLabelWithNumbers": true,
   "eqNumInitial": 1,
   "hotkeys": {
    "equation": "Ctrl-E",
    "itemize": "Ctrl-I"
   },
   "labels_anchors": false,
   "latex_user_defs": false,
   "report_style_numbering": false,
   "user_envs_cfg": false
  }
 },
 "nbformat": 4,
 "nbformat_minor": 2
}
