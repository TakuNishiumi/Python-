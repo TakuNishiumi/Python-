{
 "cells": [
  {
   "cell_type": "markdown",
   "metadata": {},
   "source": [
    "# 天体の検出"
   ]
  },
  {
   "cell_type": "markdown",
   "metadata": {},
   "source": [
    "#### 必要なパッケージのimport"
   ]
  },
  {
   "cell_type": "code",
   "execution_count": null,
   "metadata": {},
   "outputs": [],
   "source": [
    "%matplotlib notebook\n",
    "import numpy as np\n",
    "import astropy as ap\n",
    "import photutils as phot\n",
    "import matplotlib.pyplot as plt"
   ]
  },
  {
   "cell_type": "markdown",
   "metadata": {},
   "source": [
    "#### photutilsのIRAFStarFinderを用いた星検出"
   ]
  },
  {
   "cell_type": "code",
   "execution_count": null,
   "metadata": {},
   "outputs": [],
   "source": [
    "data = ap.io.fits.getdata(\"new1.fits\") # データの読み込み\n",
    "data = np.array(data) # numpy arrayへの変換\n",
    "data_2 = np.power(data, 0.1) # 画像表示の際に星が見えやすいようにしているだけ\n",
    "\n",
    "median = np.median(data) # 画像中の中央値を求める\n",
    "std = np.std(data) # 画像中の標準偏差を求める\n",
    "\n",
    "finder = phot.IRAFStarFinder(fwhm=19.0, threshold=100.0, minsep_fwhm=1.0) # 指定したfwhmとthresholdを用いたしきい値(関数)を用意\n",
    "ans = finder(data - median) # 上で定義したものでデータの中から星を検出、画像中のバックグラウンドを引いて天体だけのフラックスを残す\n",
    "ans.sort(\"mag\") # 明るい順にソートする。\n",
    "print(ans) # 検出された星の数とその星の情報を表示\n",
    "\n",
    "plt.figure()\n",
    "plt.imshow(data_2) # 画像を表示する\n",
    "plt.plot(ans['xcentroid'], ans['ycentroid'], \"+\", color='red') # 検出された星の座標を画像上に表示\n",
    "\n",
    "pos = np.array([ans['xcentroid'], ans['ycentroid']]) # 検出した天体のピクセル座標\n",
    "print(pos) # 検出した天体のピクセル座標を表示\n",
    "print(ans[\"flux\"]) # フラックス値を計算(skyの残差も込み)"
   ]
  }
 ],
 "metadata": {
  "kernelspec": {
   "display_name": "Python 3",
   "language": "python",
   "name": "python3"
  },
  "language_info": {
   "codemirror_mode": {
    "name": "ipython",
    "version": 3
   },
   "file_extension": ".py",
   "mimetype": "text/x-python",
   "name": "python",
   "nbconvert_exporter": "python",
   "pygments_lexer": "ipython3",
   "version": "3.5.5"
  }
 },
 "nbformat": 4,
 "nbformat_minor": 2
}
