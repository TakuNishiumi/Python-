{
 "cells": [
  {
   "cell_type": "markdown",
   "metadata": {},
   "source": [
    "# SIMBADを用いた天体のquery"
   ]
  },
  {
   "cell_type": "markdown",
   "metadata": {},
   "source": [
    "ここではSIMBADを用いて、天体の座標や明るさなどの情報を直接インターネット上から取ってくる方法について述べる.これには「astroquery」というパッケージが必要である。"
   ]
  },
  {
   "cell_type": "markdown",
   "metadata": {},
   "source": [
    "## 注意\n",
    "##### 6回/s以上のqueryをすると一次的にBlack listに入れられるので注意"
   ]
  },
  {
   "cell_type": "markdown",
   "metadata": {},
   "source": [
    "## 天体の名前と範囲指定による周辺の天体のquery"
   ]
  },
  {
   "cell_type": "code",
   "execution_count": 2,
   "metadata": {},
   "outputs": [
    {
     "name": "stdout",
     "output_type": "stream",
     "text": [
      "           MAIN_ID                   RA           DEC      ... FLUX_H_1 FLUX_K_1\n",
      "                                  \"h:m:s\"       \"d:m:s\"    ...   mag      mag   \n",
      "------------------------------ ------------- ------------- ... -------- --------\n",
      "                     HD 195689 20 31 26.3534 +39 56 19.765 ...    7.492    7.482\n",
      "                       KELT-9b 20 31 26.3534 +39 56 19.773 ...       --       --\n",
      "[KMH2014] J203118.64+395453.93  20 31 18.640  +39 54 53.93 ...       --       --\n",
      "[KMH2014] J203135.00+395826.41  20 31 35.000  +39 58 26.41 ...       --       --\n",
      "                   BD+39  4220 20 31 11.5038 +39 58 58.684 ...    8.954    8.921\n",
      "                     HD 195728 20 31 36.0726 +39 52 48.328 ...    2.703    2.183\n",
      "\n"
     ]
    },
    {
     "data": {
      "text/html": [
       "&lt;Table masked=True length=6&gt;\n",
       "<table id=\"table140149177711752\" class=\"table-striped table-bordered table-condensed\">\n",
       "<thead><tr><th>MAIN_ID</th><th>FLUX_V</th><th>FLUX_B</th></tr></thead>\n",
       "<thead><tr><th></th><th>mag</th><th>mag</th></tr></thead>\n",
       "<thead><tr><th>object</th><th>float32</th><th>float32</th></tr></thead>\n",
       "<tr><td>HD 195689</td><td>7.56</td><td>7.59</td></tr>\n",
       "<tr><td>HD 195728</td><td>9.1</td><td>10.52</td></tr>\n",
       "<tr><td>BD+39  4220</td><td>9.3</td><td>9.45</td></tr>\n",
       "<tr><td>KELT-9b</td><td>--</td><td>--</td></tr>\n",
       "<tr><td>[KMH2014] J203118.64+395453.93</td><td>--</td><td>--</td></tr>\n",
       "<tr><td>[KMH2014] J203135.00+395826.41</td><td>--</td><td>--</td></tr>\n",
       "</table>"
      ],
      "text/plain": [
       "<Table masked=True length=6>\n",
       "           MAIN_ID              FLUX_V  FLUX_B\n",
       "                                 mag     mag  \n",
       "            object             float32 float32\n",
       "------------------------------ ------- -------\n",
       "                     HD 195689    7.56    7.59\n",
       "                     HD 195728     9.1   10.52\n",
       "                   BD+39  4220     9.3    9.45\n",
       "                       KELT-9b      --      --\n",
       "[KMH2014] J203118.64+395453.93      --      --\n",
       "[KMH2014] J203135.00+395826.41      --      --"
      ]
     },
     "execution_count": 2,
     "metadata": {},
     "output_type": "execute_result"
    }
   ],
   "source": [
    "# 必要なパッケージのimport\n",
    "from astroquery.simbad import Simbad\n",
    "import astropy.units as u # 単位の変換や単位の付与ができる。詳細はastropy.unitsについて書いたnotebookを参照\n",
    "\n",
    "# queryの実行\n",
    "Simbad.add_votable_fields(\"flux(B)\", \"flux(V)\", \"flux(G)\",\"flux(J)\", \"flux(H)\", \"flux(K)\") # queryにいくつかのfluxを追加する。\n",
    "\n",
    "# Simbad.query_region(天体名,天体を探す範囲(半径))と入力する。この場合はKELT-9という天体の周辺、半径250 arcsecondの天体を調べる。\n",
    "result_table = Simbad.query_region(\"KELT-9\", radius= 250 * u.arcsec) \n",
    "\n",
    "print(result_table) # queryの結果を表示\n",
    "print()\n",
    "\n",
    "result_table.sort(\"FLUX_B\") # FLUX_Bの値を用いて表のsortを行う。\n",
    "result_table[\"MAIN_ID\",\"FLUX_V\", \"FLUX_B\"] # 指定したキーワードのみ、表示させる。このastropyのtable型はpandasのデータフレームに変換可能\n",
    "\n",
    "#print(Simbad.list_votable_fields()) # Simbadのqueryに使うことのできるkey(要素)を全て表示する。"
   ]
  }
 ],
 "metadata": {
  "kernelspec": {
   "display_name": "Python 3",
   "language": "python",
   "name": "python3"
  },
  "language_info": {
   "codemirror_mode": {
    "name": "ipython",
    "version": 3
   },
   "file_extension": ".py",
   "mimetype": "text/x-python",
   "name": "python",
   "nbconvert_exporter": "python",
   "pygments_lexer": "ipython3",
   "version": "3.5.4"
  },
  "latex_envs": {
   "LaTeX_envs_menu_present": true,
   "autoclose": false,
   "autocomplete": true,
   "bibliofile": "biblio.bib",
   "cite_by": "apalike",
   "current_citInitial": 1,
   "eqLabelWithNumbers": true,
   "eqNumInitial": 1,
   "hotkeys": {
    "equation": "Ctrl-E",
    "itemize": "Ctrl-I"
   },
   "labels_anchors": false,
   "latex_user_defs": false,
   "report_style_numbering": false,
   "user_envs_cfg": false
  }
 },
 "nbformat": 4,
 "nbformat_minor": 2
}
