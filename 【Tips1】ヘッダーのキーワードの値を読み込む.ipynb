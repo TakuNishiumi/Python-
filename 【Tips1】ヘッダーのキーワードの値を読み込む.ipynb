{
 "cells": [
  {
   "cell_type": "markdown",
   "metadata": {},
   "source": [
    "## ヘッダーのキーワードの値を読み込む\n",
    "ヘッダーを読み込んだ後に、読み込みたいキーワードをしていすれば、キーワードの示す値が読み込める。"
   ]
  },
  {
   "cell_type": "code",
   "execution_count": 1,
   "metadata": {},
   "outputs": [
    {
     "name": "stdout",
     "output_type": "stream",
     "text": [
      "data\n",
      "1.11587\n"
     ]
    }
   ],
   "source": [
    "import astropy as ap\n",
    "import astropy.io.fits\n",
    "from astropy.utils.data import get_pkg_data_filename\n",
    "\n",
    "filename = get_pkg_data_filename('tutorials/FITS-images/HorseHead.fits') # tutorial用のfitsデータ\n",
    "header = ap.io.fits.getheader(filename)\n",
    "print(header[\"OBJECT\"]) \n",
    "print(header[\"AIRMASS\"])"
   ]
  }
 ],
 "metadata": {
  "kernelspec": {
   "display_name": "Python 3",
   "language": "python",
   "name": "python3"
  },
  "language_info": {
   "codemirror_mode": {
    "name": "ipython",
    "version": 3
   },
   "file_extension": ".py",
   "mimetype": "text/x-python",
   "name": "python",
   "nbconvert_exporter": "python",
   "pygments_lexer": "ipython3",
   "version": "3.5.5"
  }
 },
 "nbformat": 4,
 "nbformat_minor": 2
}
