{
 "cells": [
  {
   "cell_type": "markdown",
   "metadata": {},
   "source": [
    "# Open Exoplanet Catalogue"
   ]
  },
  {
   "cell_type": "markdown",
   "metadata": {},
   "source": [
    "## astroqueryからopen exoplanet catalogueのimport"
   ]
  },
  {
   "cell_type": "code",
   "execution_count": 1,
   "metadata": {},
   "outputs": [],
   "source": [
    "from astroquery import open_exoplanet_catalogue as oec\n",
    "from astroquery.open_exoplanet_catalogue import findvalue"
   ]
  },
  {
   "cell_type": "markdown",
   "metadata": {},
   "source": [
    "## カタログデータのimport"
   ]
  },
  {
   "cell_type": "code",
   "execution_count": 2,
   "metadata": {},
   "outputs": [],
   "source": [
    "import xml.etree.ElementTree as ET, urllib.request, gzip, io\n",
    "url = \"https://github.com/OpenExoplanetCatalogue/oec_gzip/raw/master/systems.xml.gz\"\n",
    "oec = ET.parse(gzip.GzipFile(fileobj=io.BytesIO(urllib.request.urlopen(url).read())))"
   ]
  },
  {
   "cell_type": "markdown",
   "metadata": {},
   "source": [
    "## 目標の惑星を取ってくる"
   ]
  },
  {
   "cell_type": "code",
   "execution_count": 3,
   "metadata": {},
   "outputs": [],
   "source": [
    "planet_name = \"'GJ 436 b'\"\n",
    "star_name = \"'GJ 436'\""
   ]
  },
  {
   "cell_type": "code",
   "execution_count": 4,
   "metadata": {},
   "outputs": [],
   "source": [
    "planet = oec.find(\".//planet[name=\" + planet_name +\"]\")\n",
    "star = oec.find(\".//star[name=\" + star_name + \"]\")\n",
    "system = oec.find(\".//system[name=\"+star_name+ \"]\")"
   ]
  },
  {
   "cell_type": "markdown",
   "metadata": {},
   "source": [
    "## 欲しい主星・惑星の物理量を取得"
   ]
  },
  {
   "cell_type": "code",
   "execution_count": 5,
   "metadata": {},
   "outputs": [
    {
     "name": "stdout",
     "output_type": "stream",
     "text": [
      "0.07992 +0.00661 -0.00629\n",
      "0.445 +/-0.044\n",
      "None\n"
     ]
    }
   ],
   "source": [
    "print(findvalue(planet, \"mass\"))\n",
    "print(findvalue(star, \"mass\"))\n",
    "print(findvalue(system, \"binary\"))"
   ]
  },
  {
   "cell_type": "code",
   "execution_count": 6,
   "metadata": {},
   "outputs": [
    {
     "name": "stdout",
     "output_type": "stream",
     "text": [
      "None\n"
     ]
    }
   ],
   "source": [
    "print(findvalue(star, \"star\"))"
   ]
  },
  {
   "cell_type": "markdown",
   "metadata": {},
   "source": [
    "# NASA Exoplanet Archive "
   ]
  },
  {
   "cell_type": "code",
   "execution_count": 7,
   "metadata": {},
   "outputs": [],
   "source": [
    "from astroquery.nasa_exoplanet_archive import NasaExoplanetArchive\n",
    "gj436 = NasaExoplanetArchive.query_planet('GJ 436 b')"
   ]
  },
  {
   "cell_type": "code",
   "execution_count": 8,
   "metadata": {},
   "outputs": [
    {
     "data": {
      "text/html": [
       "<i>Row index=1165 masked=True</i>\n",
       "<table id=\"table140206676515360\">\n",
       "<thead><tr><th>pl_hostname</th><th>pl_letter</th><th>pl_name</th><th>pl_discmethod</th><th>pl_pnum</th><th>pl_orbper</th><th>pl_orbpererr1</th><th>pl_orbpererr2</th><th>pl_orbperlim</th><th>pl_orbpern</th><th>pl_orbsmax</th><th>pl_orbsmaxerr1</th><th>pl_orbsmaxerr2</th><th>pl_orbsmaxlim</th><th>pl_orbsmaxn</th><th>pl_orbeccen</th><th>pl_orbeccenerr1</th><th>pl_orbeccenerr2</th><th>pl_orbeccenlim</th><th>pl_orbeccenn</th><th>pl_orbincl</th><th>pl_orbinclerr1</th><th>pl_orbinclerr2</th><th>pl_orbincllim</th><th>pl_orbincln</th><th>pl_bmassj</th><th>pl_bmassjerr1</th><th>pl_bmassjerr2</th><th>pl_bmassjlim</th><th>pl_bmassn</th><th>pl_bmassprov</th><th>pl_radj</th><th>pl_radjerr1</th><th>pl_radjerr2</th><th>pl_radjlim</th><th>pl_radn</th><th>pl_dens</th><th>pl_denserr1</th><th>pl_denserr2</th><th>pl_denslim</th><th>pl_densn</th><th>pl_ttvflag</th><th>pl_kepflag</th><th>pl_k2flag</th><th>ra_str</th><th>dec_str</th><th>ra</th><th>st_raerr</th><th>dec</th><th>st_decerr</th><th>st_posn</th><th>st_dist</th><th>st_disterr1</th><th>st_disterr2</th><th>st_distlim</th><th>st_distn</th><th>st_optmag</th><th>st_optmagerr</th><th>st_optmaglim</th><th>st_optband</th><th>gaia_gmag</th><th>gaia_gmagerr</th><th>gaia_gmaglim</th><th>st_teff</th><th>st_tefferr1</th><th>st_tefferr2</th><th>st_tefflim</th><th>st_teffn</th><th>st_mass</th><th>st_masserr1</th><th>st_masserr2</th><th>st_masslim</th><th>st_massn</th><th>st_rad</th><th>st_raderr1</th><th>st_raderr2</th><th>st_radlim</th><th>st_radn</th><th>pl_nnotes</th><th>rowupdate</th><th>pl_facility</th><th>NAME_LOWERCASE</th><th>sky_coord</th></tr></thead>\n",
       "<thead><tr><th></th><th></th><th></th><th></th><th></th><th>d</th><th>d</th><th>d</th><th>d</th><th></th><th>AU</th><th>AU</th><th>AU</th><th>AU</th><th></th><th></th><th></th><th></th><th></th><th></th><th>deg</th><th>deg</th><th>deg</th><th>deg</th><th></th><th>jupiterMass</th><th>jupiterMass</th><th>jupiterMass</th><th>jupiterMass</th><th></th><th></th><th>jupiterRad</th><th>jupiterRad</th><th>jupiterRad</th><th>jupiterRad</th><th></th><th></th><th></th><th></th><th></th><th></th><th></th><th></th><th></th><th></th><th></th><th>deg</th><th></th><th>deg</th><th></th><th></th><th>pc</th><th>pc</th><th>pc</th><th>pc</th><th></th><th>mag</th><th>mag</th><th>mag</th><th></th><th></th><th></th><th></th><th>K</th><th>K</th><th>K</th><th>K</th><th></th><th>solMass</th><th>solMass</th><th>solMass</th><th>solMass</th><th></th><th>solRad</th><th>solRad</th><th>solRad</th><th>solRad</th><th></th><th></th><th></th><th></th><th></th><th>deg,deg</th></tr></thead>\n",
       "<thead><tr><th>str27</th><th>str1</th><th>str29</th><th>str29</th><th>int64</th><th>float64</th><th>float64</th><th>float64</th><th>float64</th><th>int64</th><th>float64</th><th>float64</th><th>float64</th><th>float64</th><th>int64</th><th>float64</th><th>float64</th><th>float64</th><th>int64</th><th>int64</th><th>float64</th><th>float64</th><th>float64</th><th>float64</th><th>int64</th><th>float64</th><th>float64</th><th>float64</th><th>float64</th><th>int64</th><th>str14</th><th>float64</th><th>float64</th><th>float64</th><th>float64</th><th>int64</th><th>float64</th><th>float64</th><th>float64</th><th>int64</th><th>int64</th><th>int64</th><th>int64</th><th>int64</th><th>str12</th><th>str12</th><th>float64</th><th>float64</th><th>float64</th><th>float64</th><th>int64</th><th>float64</th><th>float64</th><th>float64</th><th>float64</th><th>int64</th><th>float64</th><th>float64</th><th>float64</th><th>str11</th><th>float64</th><th>float64</th><th>int64</th><th>float64</th><th>float64</th><th>float64</th><th>float64</th><th>int64</th><th>float64</th><th>float64</th><th>float64</th><th>float64</th><th>int64</th><th>float64</th><th>float64</th><th>float64</th><th>float64</th><th>int64</th><th>int64</th><th>str10</th><th>str42</th><th>str26</th><th>object</th></tr></thead>\n",
       "<tr><td>GJ 436</td><td>b</td><td>GJ 436 b</td><td>Radial Velocity</td><td>1</td><td>2.64388312</td><td>5.7e-07</td><td>-5.7e-07</td><td>0.0</td><td>16</td><td>0.0291</td><td>0.0015</td><td>-0.0015</td><td>0.0</td><td>13</td><td>0.13827</td><td>0.00018</td><td>-0.00018</td><td>0</td><td>10</td><td>86.44</td><td>0.17</td><td>-0.16</td><td>0.0</td><td>6</td><td>0.07</td><td>0.007</td><td>-0.007</td><td>0.0</td><td>13</td><td>Mass</td><td>0.372</td><td>0.015</td><td>-0.015</td><td>0.0</td><td>9</td><td>1.8</td><td>0.29</td><td>-0.29</td><td>0</td><td>5</td><td>0</td><td>0</td><td>0</td><td>11h42m11.09s</td><td>+26d42m23.7s</td><td>175.546219</td><td>7e-06</td><td>26.70657</td><td>4e-06</td><td>4</td><td>10.23</td><td>0.23</td><td>-0.24</td><td>0.0</td><td>6</td><td>10.67</td><td>0.01</td><td>0.0</td><td>V (Johnson)</td><td>9.411</td><td>--</td><td>0</td><td>0.0</td><td>0.0</td><td>0.0</td><td>0.0</td><td>8</td><td>0.47</td><td>0.07</td><td>-0.07</td><td>0.0</td><td>10</td><td>0.46</td><td>0.02</td><td>-0.02</td><td>0.0</td><td>8</td><td>0</td><td>2015-02-05</td><td>W. M. Keck Observatory</td><td>gj436b</td><td>175.546219,26.70657</td></tr>\n",
       "</table>"
      ],
      "text/plain": [
       "<Row index=1165 masked=True>\n",
       "pl_hostname pl_letter pl_name   pl_discmethod  pl_pnum pl_orbper  pl_orbpererr1 pl_orbpererr2 pl_orbperlim pl_orbpern pl_orbsmax pl_orbsmaxerr1 pl_orbsmaxerr2 pl_orbsmaxlim pl_orbsmaxn pl_orbeccen pl_orbeccenerr1 pl_orbeccenerr2 pl_orbeccenlim pl_orbeccenn pl_orbincl pl_orbinclerr1 pl_orbinclerr2 pl_orbincllim pl_orbincln  pl_bmassj  pl_bmassjerr1 pl_bmassjerr2 pl_bmassjlim pl_bmassn pl_bmassprov  pl_radj   pl_radjerr1 pl_radjerr2 pl_radjlim pl_radn pl_dens pl_denserr1 pl_denserr2 pl_denslim pl_densn pl_ttvflag pl_kepflag pl_k2flag    ra_str      dec_str        ra     st_raerr   dec    st_decerr st_posn st_dist st_disterr1 st_disterr2 st_distlim st_distn st_optmag st_optmagerr st_optmaglim  st_optband gaia_gmag gaia_gmagerr gaia_gmaglim st_teff st_tefferr1 st_tefferr2 st_tefflim st_teffn st_mass st_masserr1 st_masserr2 st_masslim st_massn  st_rad st_raderr1 st_raderr2 st_radlim st_radn pl_nnotes rowupdate       pl_facility       NAME_LOWERCASE      sky_coord     \n",
       "                                                           d            d             d            d                      AU           AU             AU             AU                                                                                             deg          deg            deg            deg                  jupiterMass  jupiterMass   jupiterMass  jupiterMass                         jupiterRad  jupiterRad  jupiterRad jupiterRad                                                                                                                          deg                deg                         pc        pc          pc         pc                 mag        mag          mag                                                         K         K           K          K               solMass   solMass     solMass    solMass             solRad   solRad     solRad     solRad                                                                           deg,deg      \n",
       "   str27       str1    str29        str29       int64   float64      float64       float64      float64      int64     float64      float64        float64        float64       int64      float64       float64         float64         int64         int64      float64      float64        float64        float64       int64      float64      float64       float64      float64      int64      str14      float64     float64     float64    float64    int64  float64   float64     float64     int64     int64     int64      int64      int64      str12        str12      float64   float64  float64   float64   int64  float64   float64     float64    float64    int64    float64    float64      float64       str11     float64    float64       int64     float64   float64     float64    float64    int64   float64   float64     float64    float64    int64   float64  float64    float64    float64   int64    int64     str10            str42              str26             object      \n",
       "----------- --------- -------- --------------- ------- ---------- ------------- ------------- ------------ ---------- ---------- -------------- -------------- ------------- ----------- ----------- --------------- --------------- -------------- ------------ ---------- -------------- -------------- ------------- ----------- ----------- ------------- ------------- ------------ --------- ------------ ---------- ----------- ----------- ---------- ------- ------- ----------- ----------- ---------- -------- ---------- ---------- --------- ------------ ------------ ---------- -------- -------- --------- ------- ------- ----------- ----------- ---------- -------- --------- ------------ ------------ ----------- --------- ------------ ------------ ------- ----------- ----------- ---------- -------- ------- ----------- ----------- ---------- -------- ------- ---------- ---------- --------- ------- --------- ---------- ---------------------- -------------- -------------------\n",
       "     GJ 436         b GJ 436 b Radial Velocity       1 2.64388312       5.7e-07      -5.7e-07          0.0         16     0.0291         0.0015        -0.0015           0.0          13     0.13827         0.00018        -0.00018              0           10      86.44           0.17          -0.16           0.0           6        0.07         0.007        -0.007          0.0        13         Mass      0.372       0.015      -0.015        0.0       9     1.8        0.29       -0.29          0        5          0          0         0 11h42m11.09s +26d42m23.7s 175.546219    7e-06 26.70657     4e-06       4   10.23        0.23       -0.24        0.0        6     10.67         0.01          0.0 V (Johnson)     9.411           --            0     0.0         0.0         0.0        0.0        8    0.47        0.07       -0.07        0.0       10    0.46       0.02      -0.02       0.0       8         0 2015-02-05 W. M. Keck Observatory         gj436b 175.546219,26.70657"
      ]
     },
     "execution_count": 8,
     "metadata": {},
     "output_type": "execute_result"
    }
   ],
   "source": [
    "gj436"
   ]
  }
 ],
 "metadata": {
  "kernelspec": {
   "display_name": "Python 3",
   "language": "python",
   "name": "python3"
  },
  "language_info": {
   "codemirror_mode": {
    "name": "ipython",
    "version": 3
   },
   "file_extension": ".py",
   "mimetype": "text/x-python",
   "name": "python",
   "nbconvert_exporter": "python",
   "pygments_lexer": "ipython3",
   "version": "3.5.5"
  }
 },
 "nbformat": 4,
 "nbformat_minor": 2
}
