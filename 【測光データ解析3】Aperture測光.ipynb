{
 "cells": [
  {
   "cell_type": "markdown",
   "metadata": {},
   "source": [
    "## Aperture測光の方法"
   ]
  },
  {
   "cell_type": "markdown",
   "metadata": {},
   "source": [
    "#### パッケージのimport"
   ]
  },
  {
   "cell_type": "code",
   "execution_count": 1,
   "metadata": {},
   "outputs": [],
   "source": [
    "import astropy as ap # astropyのimport\n",
    "import astropy.io.fits\n",
    "import photutils as phot # 測光のためのパッケージのimport\n",
    "import numpy as np"
   ]
  },
  {
   "cell_type": "markdown",
   "metadata": {},
   "source": [
    "#### データの読み込み"
   ]
  },
  {
   "cell_type": "code",
   "execution_count": 2,
   "metadata": {},
   "outputs": [],
   "source": [
    "im = \"/media/dionysos1/data/public/Transit/GJ-436/170427/L0131000.fits\" # FITSファイルの名前\n",
    "hdu = ap.io.fits.open(im) # FITSファイルの読み込み\n",
    "header = hdu[0].header # header部分の取り出し\n",
    "im = hdu[0].data # data部分の取り出し\n",
    "gain = header[\"GAIN\"] # header内のGAIN値の読み込み\n",
    "ron = header[\"RONOISE\"] #Read Out NOISE値の読み込み"
   ]
  },
  {
   "cell_type": "markdown",
   "metadata": {},
   "source": [
    "#### aperture photometry"
   ]
  },
  {
   "cell_type": "code",
   "execution_count": 3,
   "metadata": {},
   "outputs": [
    {
     "name": "stdout",
     "output_type": "stream",
     "text": [
      "   aperture_sum   \n",
      "------------------\n",
      "16592835.767128758\n",
      "   aperture_sum   \n",
      "------------------\n",
      "6671.3138363782755\n"
     ]
    }
   ],
   "source": [
    "# aperture photometryのための設定\n",
    "pos = [938,1097] # apertureの円中心(x,y)の座標(画像上のピクセル座標)\n",
    "r = 50 # apertureの半径\n",
    "r_in = 65 # 円環の内側の半径\n",
    "r_out = 75 # 円環の外側の半径\n",
    "\n",
    "apertures = phot.CircularAperture(pos, r) # 様々な半径radiiの円のaperture領域を定義\n",
    "sky_annulus = phot.CircularAnnulus(pos, r_in=r_in, r_out=r_out) # 円環のaperture領域を定義\n",
    "phot_table = phot.aperture_photometry(im, apertures) # 恒星のaperture合計をとる。\n",
    "sky_table = phot.aperture_photometry(im, sky_annulus) # skyのring状のaperture合計をとる。\n",
    "bkg_mean = sky_table[\"aperture_sum\"] / sky_annulus.area() # skyの1pixelあたりの平均値(# より精度の良い解析のためには、skyをmedianで計算した方がよい)\n",
    "bkg_sum = bkg_mean * apertures.area() * gain # 1ピクセルあたりのsky値をaperture半径内のピクセルにかけて、aperture内のsky値の総数を計算\n",
    "final_sum = gain * phot_table[\"aperture_sum\"] - bkg_sum # aperture測光した値から、そのaperture半径分のピクセルのskyを引く,これはgainをかけているのでelectron数\n",
    "err = np.sqrt(final_sum + ron*ron* apertures.area() + bkg_sum)  # エラー値\n",
    "\n",
    "print(final_sum)\n",
    "print(err)"
   ]
  }
 ],
 "metadata": {
  "kernelspec": {
   "display_name": "Python 3",
   "language": "python",
   "name": "python3"
  },
  "language_info": {
   "codemirror_mode": {
    "name": "ipython",
    "version": 3
   },
   "file_extension": ".py",
   "mimetype": "text/x-python",
   "name": "python",
   "nbconvert_exporter": "python",
   "pygments_lexer": "ipython3",
   "version": "3.5.5"
  },
  "latex_envs": {
   "LaTeX_envs_menu_present": true,
   "autoclose": false,
   "autocomplete": true,
   "bibliofile": "biblio.bib",
   "cite_by": "apalike",
   "current_citInitial": 1,
   "eqLabelWithNumbers": true,
   "eqNumInitial": 1,
   "hotkeys": {
    "equation": "Ctrl-E",
    "itemize": "Ctrl-I"
   },
   "labels_anchors": false,
   "latex_user_defs": false,
   "report_style_numbering": false,
   "user_envs_cfg": false
  }
 },
 "nbformat": 4,
 "nbformat_minor": 2
}
